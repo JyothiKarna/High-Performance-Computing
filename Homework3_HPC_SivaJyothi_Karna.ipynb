{
  "cells": [
    {
      "cell_type": "markdown",
      "metadata": {
        "id": "view-in-github",
        "colab_type": "text"
      },
      "source": [
        "<a href=\"https://colab.research.google.com/github/JyothiKarna/High-Performance-Computing/blob/main/Homework3_HPC_SivaJyothi_Karna.ipynb\" target=\"_parent\"><img src=\"https://colab.research.google.com/assets/colab-badge.svg\" alt=\"Open In Colab\"/></a>"
      ]
    },
    {
      "cell_type": "markdown",
      "source": [
        "Part A\n",
        "\n",
        "Question 1 (10’)\n",
        "\n",
        "Given an array of integers, find two numbers in it such that they can add up to a specific number.\n",
        "You may assume there are exactly one solution, you can’t use the same element twice. (Only time-complexity optimized solution gets full grade)\n",
        "\n",
        "Example:\n",
        "Given [2, 7, 11, 4], Target = 13.\n",
        "The answer is 2 and 11.\n",
        "\n",
        "Modify the “solution” function in the question1.py.\n",
        "(Analyze your time complexity)\n"
      ],
      "metadata": {
        "id": "ErTM5wcr6gaP"
      }
    },
    {
      "cell_type": "code",
      "execution_count": null,
      "metadata": {
        "id": "A08X7OagzuYJ",
        "outputId": "dfa5394e-2fff-4180-8f25-519d2b4b5431",
        "colab": {
          "base_uri": "https://localhost:8080/"
        }
      },
      "outputs": [
        {
          "output_type": "stream",
          "name": "stdout",
          "text": [
            "(13, -4)\n",
            "(29, -4)\n"
          ]
        }
      ],
      "source": [
        "# Method1:\n",
        "\n",
        "def solution(list, num): #O(1)\n",
        "    a=0 \n",
        "    b=0 \n",
        "    nums=[]\n",
        "    '''type in your solution, find a and b in array that a+b=num'''\n",
        "    for i in range(0,len(numbers)):\n",
        "        nums.append(abs(numbers[i]-num))\n",
        "    for i in range(0,len(nums)):\n",
        "        if nums[i] in numbers :\n",
        "            a=nums[i]\n",
        "            b=numbers[i]\n",
        "        \n",
        "    return a, b  \n",
        "  \n",
        "numbers = [2, 7, 9, 29, 13, 15, -4] \n",
        "print(solution(numbers, 9)) \n",
        "print(solution(numbers, 25))"
      ]
    },
    {
      "cell_type": "code",
      "execution_count": null,
      "metadata": {
        "id": "FVc-SUVHzuYM",
        "outputId": "b9b35ab3-ba6c-456c-c89c-9f12dfdb16f1",
        "colab": {
          "base_uri": "https://localhost:8080/"
        }
      },
      "outputs": [
        {
          "output_type": "stream",
          "name": "stdout",
          "text": [
            "Sum in Pairs 12 is: ( 7 , 5 )\n",
            "Sum in Pairs 12 is: ( 3 , 9 )\n"
          ]
        }
      ],
      "source": [
        "# Method 2:\n",
        "\n",
        "def twoSumHash(nums, sum_pair):\n",
        "    sum = []\n",
        "    hashTable = {}\n",
        "    \n",
        "    for i in range(len(nums)):\n",
        "        comp = sum_pair - nums[i]\n",
        "        if comp in hashTable:\n",
        "            print(\"Sum in Pairs\", sum_pair,\"is: (\", nums[i],\",\",comp,\")\")\n",
        "        hashTable[nums[i]] = nums[i]\n",
        "    \n",
        "# Driver Code\n",
        "nums = [2, 5, 7, 9, 13, 11, 3]\n",
        "sum_pair = 12\n",
        "  \n",
        "# Calling function\n",
        "twoSumHash(nums, sum_pair)"
      ]
    },
    {
      "cell_type": "markdown",
      "source": [
        "Question 2 (10’)\n",
        "\n",
        "Given a binary tree, find the max depth of it. Modify the “solution” function in the question2.py (Analyze your time complexity, and only time-complexity optimized solution gets full grade)"
      ],
      "metadata": {
        "id": "baaqh_XaCbZW"
      }
    },
    {
      "cell_type": "code",
      "execution_count": null,
      "metadata": {
        "id": "o0pp2l3MzuYN",
        "outputId": "eaaf7911-e372-48cb-aca1-e5cb49dbbea4",
        "colab": {
          "base_uri": "https://localhost:8080/"
        }
      },
      "outputs": [
        {
          "output_type": "stream",
          "name": "stdout",
          "text": [
            "3\n"
          ]
        }
      ],
      "source": [
        "# Question 2 (10’)\n",
        "# Given a binary tree, find the max depth of it. Modify the “solution” function in the question2.py \n",
        "# (Analyze your time complexity, and only time-complexity optimized solution gets full grade)\n",
        "\n",
        "class TreeNode(object):\n",
        "    \"\"\" Definition of a binary tree node.\"\"\"\n",
        "    def __init__(self, x):\n",
        "        self.val = x\n",
        "        self.left = None\n",
        "        self.right = None\n",
        "\n",
        "def sol(root):\n",
        "    '''type in your solution'''\n",
        "    if root==None:\n",
        "        return 0\n",
        "    else: \n",
        "        left= sol(root.left)\n",
        "        right= sol(root.right)\n",
        "    depth= max(left,right) +1\n",
        "    return depth\n",
        "\n",
        "a15=TreeNode(15)\n",
        "a7=TreeNode(7)\n",
        "a20=TreeNode(20)\n",
        "a9=TreeNode(9)\n",
        "a3=TreeNode(3)\n",
        "a20.left=a15\n",
        "a20.right=a7\n",
        "a3.left=a9\n",
        "a3.right=a20\n",
        "print(sol(a3))"
      ]
    },
    {
      "cell_type": "markdown",
      "source": [
        "Question 3 (5’)\n",
        "\n",
        "You are given two non-empty linked lists representing two non-negative integers. The digits are stored in reverse order and each of their nodes contain a single digit. Add the two numbers and return it as a linked list.\n",
        "You may assume the two numbers do not contain any leading zero, except the number 0 itself.\n",
        "Example:\n",
        "Input: (2 -> 4 -> 3) + (5 -> 6 -> 4)\n",
        "Output: 7 -> 0 -> 8\n",
        "Explanation: 342 + 465 = 807.\n",
        "\n",
        "Modify the “solution” class in question3.py, you may design your input to test it."
      ],
      "metadata": {
        "id": "AymAN0RG6yC_"
      }
    },
    {
      "cell_type": "code",
      "execution_count": null,
      "metadata": {
        "colab": {
          "base_uri": "https://localhost:8080/"
        },
        "id": "xAuhhca2zuYO",
        "outputId": "88d5bfe7-4d43-4993-f96d-746451a977dd"
      },
      "outputs": [
        {
          "output_type": "stream",
          "name": "stdout",
          "text": [
            "First list is 6 3 9 8 2 \n",
            "Second list is 2 7 \n",
            "Resultant list is 6 4 0 0 9 \n"
          ]
        }
      ],
      "source": [
        "class Solution:\n",
        "    # Function to reverse a list\n",
        "    def reverse(self, rev):\n",
        "        if rev is None or rev.next is None:\n",
        "            return rev\n",
        "        prev = None\n",
        "        next = None\n",
        "        curr = rev\n",
        "        while curr is not None:\n",
        "            next = curr.next\n",
        "            curr.next = prev\n",
        "            prev = curr\n",
        "            curr = next\n",
        "        rev = prev\n",
        "        return rev\n",
        " \n",
        "    # Function to add two numbers represented by linked list.\n",
        " \n",
        "    def addTwoLists(self, first, second):\n",
        " \n",
        "        # reverse the two lists\n",
        "        curr1 = self.reverse(first)\n",
        "        curr2 = self.reverse(second)\n",
        " \n",
        "        # res is head node of the resultant list\n",
        "        sum = 0\n",
        "        carry = 0\n",
        "        res = None\n",
        "        prev = None\n",
        " \n",
        "        # while both lists have atleast one node\n",
        "        while curr1 is not None or curr2 is not None:\n",
        " \n",
        "            # Calculating the sum of the last digits\n",
        "            sum = carry + (curr1.data if curr1 else 0) + \\\n",
        "                (curr2.data if curr2 else 0)\n",
        " \n",
        "            # update carry for next calculation\n",
        "            carry = (1 if sum >= 10 else 0)\n",
        " \n",
        "            # update sum if it is greater than 10\n",
        "            sum = sum % 10\n",
        " \n",
        "            # Create a new node with sum as data\n",
        "            temp = Node(sum)\n",
        " \n",
        "            # if this is the first node then set it as head of the resultant list\n",
        "            if res is None:\n",
        "                res = temp\n",
        " \n",
        "            # If this is not the first node then connect it to the rest.\n",
        "            else:\n",
        "                prev.next = temp\n",
        " \n",
        "            # Set prev for next insertion\n",
        "            prev = temp\n",
        " \n",
        "            # Move first and second pointers to next nodes\n",
        "            if curr1:\n",
        "                curr1 = curr1.next\n",
        "            if curr2:\n",
        "                curr2 = curr2.next\n",
        " \n",
        "        # if carry from previous sums is remaining\n",
        "        if carry > 0:\n",
        "            temp.next = Node(carry)\n",
        " \n",
        "        # Reverse the resultant answer\n",
        "        ans = self.reverse(res)\n",
        "        return ans\n",
        " \n",
        " \n",
        "class Node:\n",
        "    def __init__(self, data):\n",
        "        self.data = data\n",
        "        self.next = None\n",
        " \n",
        " \n",
        "class LinkedList:\n",
        "    def __init__(self):\n",
        "        self.rev = None\n",
        "        self.tail = None\n",
        " \n",
        "    def insert(self, val):\n",
        "        if self.rev is None:\n",
        "            self.rev = Node(val)\n",
        "            self.tail = self.rev\n",
        "        else:\n",
        "            self.tail.next = Node(val)\n",
        "            self.tail = self.tail.next\n",
        " \n",
        "# Utility function to print the list\n",
        " \n",
        " \n",
        "def printList(n):\n",
        "    while n:\n",
        "        print(n.data, end = ' ')\n",
        "        n = n.next\n",
        "    print()\n",
        " \n",
        " \n",
        "if __name__ == \"__main__\":\n",
        " \n",
        "    arr1 = [6, 3, 9, 8, 2]\n",
        "    LL1 = LinkedList()\n",
        "    for i in arr1:\n",
        "        LL1.insert(i)\n",
        "    print(\"First list is\", end = \" \")\n",
        "    printList(LL1.rev)\n",
        " \n",
        "    arr2 = [2, 7]\n",
        "    LL2 = LinkedList()\n",
        "    for i in arr2:\n",
        "        LL2.insert(i)\n",
        "    print(\"Second list is\", end = \" \")\n",
        "    printList(LL2.rev)\n",
        " \n",
        "    # Function Call\n",
        "    res = Solution().addTwoLists(LL1.rev, LL2.rev)\n",
        "    print(\"Resultant list is\", end = \" \")\n",
        "    printList(res)"
      ]
    },
    {
      "cell_type": "markdown",
      "source": [
        "Question 4 (5’)\n",
        "\n",
        "Given a string s, find the length of the longest substring without repeating characters. You can expect the string length is less than 100, and only contains English letters.\n",
        "Example 1:\n",
        "Input: s = \"abcabcbb\"\n",
        "Output: 3\n",
        "Explanation: The answer is \"abc\", with the length of 3.\n",
        " \n",
        "Modify the “solution” class in question4.py, you may design your input to test it."
      ],
      "metadata": {
        "id": "d3QclOqj64st"
      }
    },
    {
      "cell_type": "code",
      "source": [
        "s=str(input(\"Enter a word: \"))\n",
        "word=0;\n",
        "eng_alpha=[]\n",
        "\n",
        "for i in range(0,len(s)):\n",
        "        if s[i] in s[0:i-1]: \n",
        "            eng_alpha.append(s[word:i])\n",
        "            a=i+1\n",
        "if i==len(s) and s[i] not in s[0:i-1]:\n",
        "    eng_alpha.append(s)\n",
        "result = max(eng_alpha, key= len)\n",
        "print(len(result))"
      ],
      "metadata": {
        "colab": {
          "base_uri": "https://localhost:8080/"
        },
        "id": "Mamh3NZn51kI",
        "outputId": "78a96b78-40ae-41bb-848c-09b905c43020"
      },
      "execution_count": null,
      "outputs": [
        {
          "output_type": "stream",
          "name": "stdout",
          "text": [
            "Enter a word: alphabet\n",
            "4\n"
          ]
        }
      ]
    },
    {
      "cell_type": "markdown",
      "source": [
        "Question 5\n",
        "\n",
        "Given a string s containing just the characters '(', ')', '{', '}', '[' and ']', determine if the input string is valid.\n",
        "An input string is valid if:\n",
        "Open brackets must be closed by the same type of brackets.\n",
        "Open brackets must be closed in the correct order.\n",
        "Every close bracket has a corresponding open bracket of the same type.\n",
        "Modify the “solution” function in the question5.py. (Analyze your time complexity)"
      ],
      "metadata": {
        "id": "OQNIP519-n_y"
      }
    },
    {
      "cell_type": "code",
      "source": [
        "def isValid(s: str) -> bool:\n",
        "    # Stack for open brackets\n",
        "    openbracket = []\n",
        "    # Loop for each character of the string\n",
        "    for closedbracket in s:\n",
        "        # If open bracket is encountered\n",
        "        if closedbracket in ['(', '{', '[']:\n",
        "            openbracket.append(closedbracket)\n",
        "        # If closed bracket is encountered\n",
        "        elif closedbracket == ')' and len(openbracket) != 0 and openbracket[-1] == '(':\n",
        "            openbracket.pop()\n",
        "        elif closedbracket == '}' and len(openbracket) != 0 and openbracket[-1] == '{':\n",
        "            openbracket.pop()\n",
        "        elif closedbracket == ']' and len(openbracket) != 0 and openbracket[-1] == '[':\n",
        "            openbracket.pop()\n",
        "        # If none of the valid symbols is encountered\n",
        "        else:\n",
        "            return False\n",
        "    return openbracket == []\n",
        "\n",
        "\n",
        "if __name__ == '__main__':\n",
        "    print(isValid(\"'(', ')', '{', '}', '[' and ']'\"))\n",
        "    print(isValid(\"(]\"))\n",
        "    print(isValid(\"([)]\"))\n",
        "    print(isValid(\"{[]}\"))\n",
        "    print(isValid(\"()[]\"))\n",
        "    print(isValid(\"[' and ']\"))"
      ],
      "metadata": {
        "colab": {
          "base_uri": "https://localhost:8080/"
        },
        "id": "OkMh3D3o51m9",
        "outputId": "63c8ee83-f2ac-414a-ad87-28689b46b244"
      },
      "execution_count": null,
      "outputs": [
        {
          "output_type": "stream",
          "name": "stdout",
          "text": [
            "False\n",
            "False\n",
            "False\n",
            "True\n",
            "True\n",
            "False\n"
          ]
        }
      ]
    },
    {
      "cell_type": "markdown",
      "source": [
        "Question 6 (5’)\n",
        "\n",
        "Use OpenCV to do a bilateral filter to an image, modify from question6.py, you may use your favorite image, visualize the images before and after the filtering using matplotlib."
      ],
      "metadata": {
        "id": "72HpfGsIGHia"
      }
    },
    {
      "cell_type": "code",
      "source": [
        "import cv2 \n",
        "\n",
        "# Read the image. \n",
        "\n",
        "img = cv2.imread('home\\jyoti\\Downloads\\porsche.jpg') \n",
        "winname='unfiltered image'\n",
        "cv2.imshow(winname,img)\n",
        "cv2.waitKey(0)\n",
        "\n",
        "# Apply bilateral filter\n",
        "\n",
        "bilateral = cv2.bilateralFilter(img,15,80,80)\n",
        "winname='filtered image'\n",
        "cv2.imshow(winname,bilateral)\n",
        "cv2.waitKey(0)\n",
        "cv2.destroyAllWindows()\n",
        "\n",
        "\n",
        "# Save the output. \n",
        "\n",
        "cv2.imwrite('bilateral.jpg', bilateral) "
      ],
      "metadata": {
        "colab": {
          "base_uri": "https://localhost:8080/",
          "height": 408
        },
        "id": "BY69mLpB2l2U",
        "outputId": "c8c71d5c-8500-47ba-a47c-94d74c220ee5"
      },
      "execution_count": 40,
      "outputs": [
        {
          "output_type": "error",
          "ename": "DisabledFunctionError",
          "evalue": "ignored",
          "traceback": [
            "\u001b[0;31m---------------------------------------------------------------------------\u001b[0m",
            "\u001b[0;31mDisabledFunctionError\u001b[0m                     Traceback (most recent call last)",
            "\u001b[0;32m<ipython-input-40-383dafc4126c>\u001b[0m in \u001b[0;36m<module>\u001b[0;34m\u001b[0m\n\u001b[1;32m      3\u001b[0m \u001b[0mimg\u001b[0m \u001b[0;34m=\u001b[0m \u001b[0mcv2\u001b[0m\u001b[0;34m.\u001b[0m\u001b[0mimread\u001b[0m\u001b[0;34m(\u001b[0m\u001b[0;34m'home\\jyoti\\Downloads\\porsche.jpg'\u001b[0m\u001b[0;34m)\u001b[0m\u001b[0;34m\u001b[0m\u001b[0;34m\u001b[0m\u001b[0m\n\u001b[1;32m      4\u001b[0m \u001b[0mwinname\u001b[0m\u001b[0;34m=\u001b[0m\u001b[0;34m'unfiltered image'\u001b[0m\u001b[0;34m\u001b[0m\u001b[0;34m\u001b[0m\u001b[0m\n\u001b[0;32m----> 5\u001b[0;31m \u001b[0mcv2\u001b[0m\u001b[0;34m.\u001b[0m\u001b[0mimshow\u001b[0m\u001b[0;34m(\u001b[0m\u001b[0mwinname\u001b[0m\u001b[0;34m,\u001b[0m\u001b[0mimg\u001b[0m\u001b[0;34m)\u001b[0m\u001b[0;34m\u001b[0m\u001b[0;34m\u001b[0m\u001b[0m\n\u001b[0m\u001b[1;32m      6\u001b[0m \u001b[0mcv2\u001b[0m\u001b[0;34m.\u001b[0m\u001b[0mwaitKey\u001b[0m\u001b[0;34m(\u001b[0m\u001b[0;36m0\u001b[0m\u001b[0;34m)\u001b[0m\u001b[0;34m\u001b[0m\u001b[0;34m\u001b[0m\u001b[0m\n\u001b[1;32m      7\u001b[0m \u001b[0;31m# Apply bilateral filter\u001b[0m\u001b[0;34m\u001b[0m\u001b[0;34m\u001b[0m\u001b[0;34m\u001b[0m\u001b[0m\n",
            "\u001b[0;32m/usr/local/lib/python3.8/dist-packages/google/colab/_import_hooks/_cv2.py\u001b[0m in \u001b[0;36mwrapped\u001b[0;34m(*args, **kwargs)\u001b[0m\n\u001b[1;32m     46\u001b[0m   \u001b[0;32mdef\u001b[0m \u001b[0mwrapped\u001b[0m\u001b[0;34m(\u001b[0m\u001b[0;34m*\u001b[0m\u001b[0margs\u001b[0m\u001b[0;34m,\u001b[0m \u001b[0;34m**\u001b[0m\u001b[0mkwargs\u001b[0m\u001b[0;34m)\u001b[0m\u001b[0;34m:\u001b[0m\u001b[0;34m\u001b[0m\u001b[0;34m\u001b[0m\u001b[0m\n\u001b[1;32m     47\u001b[0m     \u001b[0;32mif\u001b[0m \u001b[0;32mnot\u001b[0m \u001b[0mos\u001b[0m\u001b[0;34m.\u001b[0m\u001b[0menviron\u001b[0m\u001b[0;34m.\u001b[0m\u001b[0mget\u001b[0m\u001b[0;34m(\u001b[0m\u001b[0menv_var\u001b[0m\u001b[0;34m,\u001b[0m \u001b[0;32mFalse\u001b[0m\u001b[0;34m)\u001b[0m\u001b[0;34m:\u001b[0m\u001b[0;34m\u001b[0m\u001b[0;34m\u001b[0m\u001b[0m\n\u001b[0;32m---> 48\u001b[0;31m       \u001b[0;32mraise\u001b[0m \u001b[0mDisabledFunctionError\u001b[0m\u001b[0;34m(\u001b[0m\u001b[0mmessage\u001b[0m\u001b[0;34m,\u001b[0m \u001b[0mname\u001b[0m \u001b[0;32mor\u001b[0m \u001b[0mfunc\u001b[0m\u001b[0;34m.\u001b[0m\u001b[0m__name__\u001b[0m\u001b[0;34m)\u001b[0m\u001b[0;34m\u001b[0m\u001b[0;34m\u001b[0m\u001b[0m\n\u001b[0m\u001b[1;32m     49\u001b[0m     \u001b[0;32mreturn\u001b[0m \u001b[0mfunc\u001b[0m\u001b[0;34m(\u001b[0m\u001b[0;34m*\u001b[0m\u001b[0margs\u001b[0m\u001b[0;34m,\u001b[0m \u001b[0;34m**\u001b[0m\u001b[0mkwargs\u001b[0m\u001b[0;34m)\u001b[0m\u001b[0;34m\u001b[0m\u001b[0;34m\u001b[0m\u001b[0m\n\u001b[1;32m     50\u001b[0m \u001b[0;34m\u001b[0m\u001b[0m\n",
            "\u001b[0;31mDisabledFunctionError\u001b[0m: cv2.imshow() is disabled in Colab, because it causes Jupyter sessions\nto crash; see https://github.com/jupyter/notebook/issues/3935.\nAs a substitution, consider using\n  from google.colab.patches import cv2_imshow\n"
          ],
          "errorDetails": {
            "actions": [
              {
                "action": "open_snippet",
                "actionText": "Search Snippets for cv2.imshow",
                "snippetFilter": "cv2.imshow"
              }
            ]
          }
        }
      ]
    },
    {
      "cell_type": "markdown",
      "source": [
        "Question 7 (10’)\n",
        "\n",
        "\n",
        "Given a binary tree and a sum, determine if the tree has a root-to-leaf path such that adding up all the values along the path equals the given sum. (Note: A leaf is a node with no children.)\n",
        "Example: \n",
        "\n",
        "Given the below binary tree and sum = 22,\n",
        "      5\n",
        "     / \\\n",
        "    4   8\n",
        "   /   / \\\n",
        "  11  13  4\n",
        " /  \\      \\\n",
        "7    2      1\n",
        "return true, as there exist a root-to-leaf path 5->4->11->2 which sum is 22.\n",
        "\n",
        "Modify the “solution” class in question7.py, test the above example and design your test case."
      ],
      "metadata": {
        "id": "A8RuJrJz3nGo"
      }
    },
    {
      "cell_type": "code",
      "source": [
        "class TreeNode:\n",
        "\tdef __init__(self,data=0, left=None, right=None):\n",
        "\t\tself.data = data\n",
        "\t\tself.left = None\n",
        "\t\tself.right = None\n",
        "\n",
        "def hasPathSum(root, s:int)->bool:\n",
        "        ans=0\n",
        "        sub = s-root.data\t\n",
        "        if(sub == 0 and root.left == None and root.right == None):\n",
        "            return True\n",
        "        if root.left is not None:\n",
        "            ans = ans or hasPathSum(root.left, sub)\n",
        "            if root.right is not None:\n",
        "                ans = ans or hasPathSum(root.right, sub)\n",
        "                return ans\n",
        "s = 22\n",
        "root = TreeNode(5)\n",
        "root.left = TreeNode(4)\n",
        "root.right = TreeNode(8)\n",
        "root.left.right = TreeNode(0)\n",
        "root.left.left = TreeNode(11)\n",
        "root.right.left = TreeNode(13)\n",
        "root.right.right = TreeNode(4)\n",
        "root.right.left.right = TreeNode(2)\n",
        "root.right.left.left = TreeNode(0)\n",
        "root.left.left.left= TreeNode(7)\n",
        "root.left.left.right=TreeNode(2)\n",
        "\n",
        "if hasPathSum(root, s):\n",
        "\tprint (\"True\") \n",
        "else:\n",
        "\tprint (\"False\")"
      ],
      "metadata": {
        "colab": {
          "base_uri": "https://localhost:8080/"
        },
        "id": "5yzKW1Qj3kH_",
        "outputId": "3f703852-4763-41f9-860e-59e986b91b81"
      },
      "execution_count": 54,
      "outputs": [
        {
          "output_type": "stream",
          "name": "stdout",
          "text": [
            "True\n"
          ]
        }
      ]
    },
    {
      "cell_type": "markdown",
      "source": [
        "Question 8 (10’)\n",
        "\n",
        "Given two strings s and t, return true if t is an anagram of s, and false otherwise.\n",
        "An Anagram is a word or phrase formed by rearranging the letters of a different word or phrase, typically using all the original letters exactly once.\n",
        "Example 1:\n",
        "Input: s = \"anagram\", t = \"nagaram\"\n",
        "Output: true\n",
        "Example 2:\n",
        "Input: s = \"rat\", t = \"car\"\n",
        "Output: false\n",
        "Constraints:\n",
        "1 <= s.length, t.length <= 5 * 104\n",
        "s and t consist of lowercase English letters.\n",
        "\n",
        "Modify the “solution” function in the question8.py. (Analyze your time complexity)"
      ],
      "metadata": {
        "id": "g6gNQCHC4Fqo"
      }
    },
    {
      "cell_type": "code",
      "source": [
        "# Python program to check if two strings are anagrams of\n",
        "# each other\n",
        "NO_OF_CHARS = 256\n",
        " \n",
        "# Function to check whether two strings are anagram of\n",
        "# each other\n",
        " \n",
        " \n",
        "def areAnagram(str1, str2):\n",
        " \n",
        "    # Create two count arrays and initialize all values as 0\n",
        "    count1 = [0] * NO_OF_CHARS\n",
        "    count2 = [0] * NO_OF_CHARS\n",
        " \n",
        "    # For each character in input strings, increment count\n",
        "    # in the corresponding count array\n",
        "    for i in str1:\n",
        "        count1[ord(i)] += 1\n",
        " \n",
        "    for i in str2:\n",
        "        count2[ord(i)] += 1\n",
        " \n",
        "    if len(str1) != len(str2):\n",
        "        return 0\n",
        " \n",
        "    # Compare count arrays\n",
        "    for i in range(NO_OF_CHARS):\n",
        "        if count1[i] != count2[i]:\n",
        "            return 0\n",
        " \n",
        "    return 1\n",
        " \n",
        "str1 = \"anagram\"\n",
        "str2 = \"nagaram\"\n",
        " \n",
        "# Function call\n",
        "if areAnagram(str1, str2):\n",
        "    print(\"The two strings are anagram of each other\")\n",
        "else:\n",
        "    print(\"The two strings are not anagram of each other\")\n",
        "\n",
        "# Time_complexity = O(NlogN)"
      ],
      "metadata": {
        "colab": {
          "base_uri": "https://localhost:8080/"
        },
        "id": "svVFv9yt3jp5",
        "outputId": "bf44b338-8d12-4300-f46a-91729233df9d"
      },
      "execution_count": 1,
      "outputs": [
        {
          "output_type": "stream",
          "name": "stdout",
          "text": [
            "The two strings are anagram of each other\n"
          ]
        }
      ]
    }
  ],
  "metadata": {
    "kernelspec": {
      "display_name": "Python 3.8.10 64-bit",
      "language": "python",
      "name": "python3"
    },
    "language_info": {
      "codemirror_mode": {
        "name": "ipython",
        "version": 3
      },
      "file_extension": ".py",
      "mimetype": "text/x-python",
      "name": "python",
      "nbconvert_exporter": "python",
      "pygments_lexer": "ipython3",
      "version": "3.8.10"
    },
    "orig_nbformat": 4,
    "vscode": {
      "interpreter": {
        "hash": "916dbcbb3f70747c44a77c7bcd40155683ae19c65e1c03b4aa3499c5328201f1"
      }
    },
    "colab": {
      "provenance": [],
      "include_colab_link": true
    }
  },
  "nbformat": 4,
  "nbformat_minor": 0
}