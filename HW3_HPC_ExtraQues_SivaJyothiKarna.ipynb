{
  "nbformat": 4,
  "nbformat_minor": 0,
  "metadata": {
    "colab": {
      "provenance": [],
      "authorship_tag": "ABX9TyP+grWg5gA6EIjr9ymbyls0",
      "include_colab_link": true
    },
    "kernelspec": {
      "name": "python3",
      "display_name": "Python 3"
    },
    "language_info": {
      "name": "python"
    }
  },
  "cells": [
    {
      "cell_type": "markdown",
      "metadata": {
        "id": "view-in-github",
        "colab_type": "text"
      },
      "source": [
        "<a href=\"https://colab.research.google.com/github/JyothiKarna/High-Performance-Computing/blob/main/HW3_HPC_ExtraQues_SivaJyothiKarna.ipynb\" target=\"_parent\"><img src=\"https://colab.research.google.com/assets/colab-badge.svg\" alt=\"Open In Colab\"/></a>"
      ]
    },
    {
      "cell_type": "code",
      "execution_count": null,
      "metadata": {
        "id": "BEJIvzkuiZKA"
      },
      "outputs": [],
      "source": [
        "Extra Question 1 (2’) (Extra: means it is optional for you to do)\n",
        "Given an integer array nums, find the contiguous subarray (containing at least one number) which has the largest sum and return its sum.\n",
        "Example:\n",
        "Input: nums = [-2,1,-3,4,-1,2,1,-5,4]\n",
        "Output: 6\n",
        "Explanation: [4,-1,2,1] has the largest sum = 6.\n",
        "\n",
        "You may design your input to test it."
      ]
    },
    {
      "cell_type": "code",
      "source": [
        "# Python program to print largest contiguous array sum\n",
        " \n",
        "from sys import maxsize\n",
        " \n",
        "# Function to find the maximum contiguous subarray and print its starting and end index\n",
        " \n",
        "def maxSubArraySum(nums, size):\n",
        " \n",
        "    max_so_far = -maxsize - 1\n",
        "    max_ending_here = 0\n",
        "    start = 0\n",
        "    end = 0\n",
        "    s = 0\n",
        " \n",
        "    for i in range(0, size):\n",
        " \n",
        "        max_ending_here += a[i]\n",
        " \n",
        "        if max_so_far < max_ending_here:\n",
        "            max_so_far = max_ending_here\n",
        "            start = s\n",
        "            end = i\n",
        " \n",
        "        if max_ending_here < 0:\n",
        "            max_ending_here = 0\n",
        "            s = i+1\n",
        " \n",
        "    print(\"Maximum contiguous sum is %d\" % (max_so_far))\n",
        "    print(\"Starting Index %d\" % (start))\n",
        "    print(\"Ending Index %d\" % (end))\n",
        " \n",
        " \n",
        "# Driver program to test maxSubArraySum\n",
        "nums = [-2, -3, 4, -1, -2, 1, 5, -3]\n",
        "maxSubArraySum(nums, len(nums))"
      ],
      "metadata": {
        "colab": {
          "base_uri": "https://localhost:8080/"
        },
        "id": "UATZAk5CidaF",
        "outputId": "15f63cd2-b4e7-42d5-a395-1855eea873c5"
      },
      "execution_count": null,
      "outputs": [
        {
          "output_type": "stream",
          "name": "stdout",
          "text": [
            "Maximum contiguous sum is 7\n",
            "Starting Index 2\n",
            "Ending Index 6\n"
          ]
        }
      ]
    },
    {
      "cell_type": "markdown",
      "source": [
        "Extra Question 2 (2’)\n",
        "\n",
        "You are given an array of k linked-lists lists, each linked-list is sorted in ascending order.\n",
        "Merge all the linked-lists into one sorted linked-list and return it.\n",
        "Example:\n",
        "Input: lists = [[1,4,5],[1,3,4],[2,6]]\n",
        "Output: [1,1,2,3,4,4,5,6]\n",
        "Modify the “solution” class in extra_question2.py, you may design your input to test it."
      ],
      "metadata": {
        "id": "UOuRKozrie6m"
      }
    },
    {
      "cell_type": "code",
      "source": [
        "# Python3 program to merge k sorted arrays of size n each\n",
        " \n",
        "# A Linked List node\n",
        "class Node:\n",
        " \n",
        "    def __init__(self):\n",
        " \n",
        "        self.data = 0\n",
        "        self.next = None\n",
        " \n",
        "# Function to print nodes in a\n",
        "# given linked list\n",
        "def printList(node):\n",
        " \n",
        "    while (node != None):\n",
        "        print(node.data, end=' ')\n",
        "        node = node.next\n",
        " \n",
        "# Takes two lists sorted in increasing order, and merge their nodes together to make one\n",
        "# big sorted list. Below function takes O(Log n) extra space for recursive calls,\n",
        "# but it can be easily modified to work with same time and O(1) extra space\n",
        "\n",
        "def SortedMerge(a, b):\n",
        " \n",
        "    result = None\n",
        " \n",
        "    # Base cases\n",
        "    if (a == None):\n",
        "        return(b)\n",
        "    elif (b == None):\n",
        "        return(a)\n",
        " \n",
        "    # Pick either a or b, and recur\n",
        "    if (a.data <= b.data):\n",
        "        result = a\n",
        "        result.next = SortedMerge(a.next, b)\n",
        "    else:\n",
        "        result = b\n",
        "        result.next = SortedMerge(a, b.next)\n",
        " \n",
        "    return result\n",
        " \n",
        "# The main function that takes an array of lists\n",
        "# arr[0..last] and generates the sorted output\n",
        "def mergeKLists(arr, last):\n",
        " \n",
        "    # Repeat until only one list is left\n",
        "    while (last != 0):\n",
        "        i = 0\n",
        "        j = last\n",
        " \n",
        "        # (i, j) forms a pair\n",
        "        while (i < j):\n",
        " \n",
        "            # Merge List i with List j and store\n",
        "            # merged list in List i\n",
        "            arr[i] = SortedMerge(arr[i], arr[j])\n",
        " \n",
        "            # Consider next pair\n",
        "            i += 1\n",
        "            j -= 1\n",
        " \n",
        "            # If all pairs are merged, update last\n",
        "            if (i >= j):\n",
        "                last = j\n",
        " \n",
        "    return arr[0]\n",
        " \n",
        "# Utility function to create a new node.\n",
        "def newNode(data):\n",
        " \n",
        "    temp = Node()\n",
        "    temp.data = data\n",
        "    temp.next = None\n",
        "    return temp\n",
        " \n",
        " \n",
        "# Driver code\n",
        "if __name__ == '__main__':\n",
        " \n",
        "    # Number of linked lists\n",
        "    k = 3\n",
        " \n",
        "    # Number of elements in each list\n",
        "    n = 4\n",
        " \n",
        "    # An array of pointers storing the\n",
        "    # head nodes of the linked lists\n",
        "    arr = [0 for i in range(k)]\n",
        " \n",
        "    arr[0] = newNode(1)\n",
        "    arr[0].next = newNode(3)\n",
        "    arr[0].next.next = newNode(5)\n",
        "    arr[0].next.next.next = newNode(7)\n",
        " \n",
        "    arr[1] = newNode(2)\n",
        "    arr[1].next = newNode(4)\n",
        "    arr[1].next.next = newNode(6)\n",
        "    arr[1].next.next.next = newNode(8)\n",
        " \n",
        "    arr[2] = newNode(0)\n",
        "    arr[2].next = newNode(9)\n",
        "    arr[2].next.next = newNode(10)\n",
        "    arr[2].next.next.next = newNode(11)\n",
        " \n",
        "    # Merge all lists\n",
        "    head = mergeKLists(arr, k - 1)\n",
        " \n",
        "    printList(head)"
      ],
      "metadata": {
        "colab": {
          "base_uri": "https://localhost:8080/"
        },
        "id": "UfmykeSyieXF",
        "outputId": "0622ff6a-25b4-4d3e-9184-ec27a7b5e53e"
      },
      "execution_count": null,
      "outputs": [
        {
          "output_type": "stream",
          "name": "stdout",
          "text": [
            "0 1 2 3 4 5 6 7 8 9 10 11 "
          ]
        }
      ]
    },
    {
      "cell_type": "markdown",
      "source": [
        "Extra Question 3 (2’)\n",
        "\n",
        "Write a NumPy program to get the values and indices of the elements that are bigger than 10 in a given array. - Modify the extra_question3.py"
      ],
      "metadata": {
        "id": "954fXqTcieGt"
      }
    },
    {
      "cell_type": "code",
      "source": [
        "import numpy as np\n",
        "element = np.array([[0, 10, 20], [20, 30, 40], [60, 70, 80]])\n",
        "\n",
        "print(\"Original array: \")\n",
        "\n",
        "print(element)\n",
        "\n",
        "print(\"Values bigger than 10 =\", element[element>10])\n",
        "\n",
        "print(\"Their indices are \", np.nonzero(element> 10))"
      ],
      "metadata": {
        "colab": {
          "base_uri": "https://localhost:8080/"
        },
        "id": "LPlrr5Tmig7g",
        "outputId": "66fbfa2b-38df-41b1-a70c-549f83cce863"
      },
      "execution_count": null,
      "outputs": [
        {
          "output_type": "stream",
          "name": "stdout",
          "text": [
            "Original array: \n",
            "[[ 0 10 20]\n",
            " [20 30 40]\n",
            " [60 70 80]]\n",
            "Values bigger than 10 = [20 20 30 40 60 70 80]\n",
            "Their indices are  (array([0, 1, 1, 1, 2, 2, 2]), array([2, 0, 1, 2, 0, 1, 2]))\n"
          ]
        }
      ]
    },
    {
      "cell_type": "markdown",
      "source": [
        "Extra Question 4 (2’)\n",
        "Use template matching with OpenCV to find Messi’s face in an image, try all 6 methods and plot the result. - Modify the extra_question4/code.py"
      ],
      "metadata": {
        "id": "y7H7HXl0iZzK"
      }
    },
    {
      "cell_type": "code",
      "source": [
        "import cv2 as cv\n",
        "import numpy as np\n",
        "from matplotlib import pyplot as plt\n",
        "img = cv.imread('home\\jyoti\\Downloads\\messi5.jpg',0)\n",
        "img2 = img.copy()\n",
        "template = cv.imread('template.jpg',0)\n",
        "w, h = template.shape[::-1]\n",
        "# All the 6 methods for comparison in a list\n",
        "methods = ['cv.TM_CCOEFF', 'cv.TM_CCOEFF_NORMED', 'cv.TM_CCORR',\n",
        "            'cv.TM_CCORR_NORMED', 'cv.TM_SQDIFF', 'cv.TM_SQDIFF_NORMED']\n",
        "for meth in methods:\n",
        "    img = img2.copy()\n",
        "    method = eval(meth)\n",
        "    # Apply template Matching\n",
        "    res = cv.matchTemplate(img,template,method)\n",
        "    min_val, max_val, min_loc, max_loc = cv.minMaxLoc(res)\n",
        "    # If the method is TM_SQDIFF or TM_SQDIFF_NORMED, take minimum\n",
        "    if method in [cv.TM_SQDIFF, cv.TM_SQDIFF_NORMED]:\n",
        "        top_left = min_loc\n",
        "    else:\n",
        "        top_left = max_loc\n",
        "    bottom_right = (top_left[0] + w, top_left[1] + h)\n",
        "    cv.rectangle(img,top_left, bottom_right, 255, 2)\n",
        "    plt.subplot(121),plt.imshow(res,cmap = 'gray')\n",
        "    plt.title('Matching Result'), plt.xticks([]), plt.yticks([])\n",
        "    plt.subplot(122),plt.imshow(img,cmap = 'gray')\n",
        "    plt.title('Detected Point'), plt.xticks([]), plt.yticks([])\n",
        "    plt.suptitle(meth)\n",
        "    plt.show()"
      ],
      "metadata": {
        "colab": {
          "base_uri": "https://localhost:8080/",
          "height": 235
        },
        "id": "eQVCut1ciiHL",
        "outputId": "3cc0aa0a-b9fd-4c39-c7c2-9f4a1b7e1947"
      },
      "execution_count": null,
      "outputs": [
        {
          "output_type": "error",
          "ename": "AttributeError",
          "evalue": "ignored",
          "traceback": [
            "\u001b[0;31m---------------------------------------------------------------------------\u001b[0m",
            "\u001b[0;31mAttributeError\u001b[0m                            Traceback (most recent call last)",
            "\u001b[0;32m<ipython-input-29-20390a8e68cc>\u001b[0m in \u001b[0;36m<module>\u001b[0;34m\u001b[0m\n\u001b[1;32m      3\u001b[0m \u001b[0;32mfrom\u001b[0m \u001b[0mmatplotlib\u001b[0m \u001b[0;32mimport\u001b[0m \u001b[0mpyplot\u001b[0m \u001b[0;32mas\u001b[0m \u001b[0mplt\u001b[0m\u001b[0;34m\u001b[0m\u001b[0;34m\u001b[0m\u001b[0m\n\u001b[1;32m      4\u001b[0m \u001b[0mimg\u001b[0m \u001b[0;34m=\u001b[0m \u001b[0mcv\u001b[0m\u001b[0;34m.\u001b[0m\u001b[0mimread\u001b[0m\u001b[0;34m(\u001b[0m\u001b[0;34m'home\\jyoti\\Downloads\\messi5.jpg'\u001b[0m\u001b[0;34m,\u001b[0m\u001b[0;36m0\u001b[0m\u001b[0;34m)\u001b[0m\u001b[0;34m\u001b[0m\u001b[0;34m\u001b[0m\u001b[0m\n\u001b[0;32m----> 5\u001b[0;31m \u001b[0mimg2\u001b[0m \u001b[0;34m=\u001b[0m \u001b[0mimg\u001b[0m\u001b[0;34m.\u001b[0m\u001b[0mcopy\u001b[0m\u001b[0;34m(\u001b[0m\u001b[0;34m)\u001b[0m\u001b[0;34m\u001b[0m\u001b[0;34m\u001b[0m\u001b[0m\n\u001b[0m\u001b[1;32m      6\u001b[0m \u001b[0mtemplate\u001b[0m \u001b[0;34m=\u001b[0m \u001b[0mcv\u001b[0m\u001b[0;34m.\u001b[0m\u001b[0mimread\u001b[0m\u001b[0;34m(\u001b[0m\u001b[0;34m'template.jpg'\u001b[0m\u001b[0;34m,\u001b[0m\u001b[0;36m0\u001b[0m\u001b[0;34m)\u001b[0m\u001b[0;34m\u001b[0m\u001b[0;34m\u001b[0m\u001b[0m\n\u001b[1;32m      7\u001b[0m \u001b[0mw\u001b[0m\u001b[0;34m,\u001b[0m \u001b[0mh\u001b[0m \u001b[0;34m=\u001b[0m \u001b[0mtemplate\u001b[0m\u001b[0;34m.\u001b[0m\u001b[0mshape\u001b[0m\u001b[0;34m[\u001b[0m\u001b[0;34m:\u001b[0m\u001b[0;34m:\u001b[0m\u001b[0;34m-\u001b[0m\u001b[0;36m1\u001b[0m\u001b[0;34m]\u001b[0m\u001b[0;34m\u001b[0m\u001b[0;34m\u001b[0m\u001b[0m\n",
            "\u001b[0;31mAttributeError\u001b[0m: 'NoneType' object has no attribute 'copy'"
          ]
        }
      ]
    },
    {
      "cell_type": "markdown",
      "source": [
        "Extra Question 5 (2’)\n",
        "\n",
        "Write a NumPy program to add, subtract, multiply, divide two arrays element-wise.\n",
        "After you import numpy\n",
        "The first step is to use NumPy to create two arrays: a, b\n",
        "\ta and b should be the same dimensioned.\n",
        "\tYou initialize the values for a and b when you use numpy.array to create them.\n",
        "Then a and b can apply the +  -  * / , like in the ways that two integers can do.\n",
        "\tnumpy will do the corresponding element-wise math operations implicitly.\n",
        "Please do it for both a and b for two cases: they are 1D arrays and 2D arrays, such as a and b both are 4x1, and both are 4x4."
      ],
      "metadata": {
        "id": "ngO1d17liwZE"
      }
    },
    {
      "cell_type": "code",
      "source": [
        "# Case1:\n",
        "\n",
        "import numpy as np\n",
        "\n",
        "a = [10, 80, 30, 40]\n",
        "b = [60, 20, 10, 30]\n",
        "\n",
        "print(\"Add_case1:\")\n",
        "print(np.add(a, b))\n",
        "\n",
        "print(\"Subtract_case1:\")\n",
        "print(np.subtract(a, b))\n",
        "\n",
        "print(\"Multiply_case1:\")\n",
        "print(np.multiply(a, b))\n",
        "\n",
        "print(\"Divide_case1:\")\n",
        "print(np.divide(a, b))"
      ],
      "metadata": {
        "colab": {
          "base_uri": "https://localhost:8080/"
        },
        "id": "llgUbf03iwuD",
        "outputId": "d0316fbd-f75c-450d-cada-74df821b3fe1"
      },
      "execution_count": null,
      "outputs": [
        {
          "output_type": "stream",
          "name": "stdout",
          "text": [
            "Add_case1:\n",
            "[ 70 100  40  70]\n",
            "Subtract_case1:\n",
            "[-50  60  20  10]\n",
            "Multiply_case1:\n",
            "[ 600 1600  300 1200]\n",
            "Divide_case1:\n",
            "[0.16666667 4.         3.         1.33333333]\n"
          ]
        }
      ]
    },
    {
      "cell_type": "code",
      "source": [
        "# Case2:\n",
        "\n",
        "import numpy as np\n",
        "\n",
        "a = [[10, 80, 30, 40], [50, 60, 70, 80], [90, 60, 30, 10], [60, 10, 30, 80]]\n",
        "b = [[60, 20, 10, 30], [20, 10, 40, 30], [80, 70, 10, 20], [60, 50, 80, 10]]\n",
        "\n",
        "print(\"Add_case2:\")\n",
        "print(np.add(a, b))\n",
        "\n",
        "print(\"Subtract_case2:\")\n",
        "print(np.subtract(a, b))\n",
        "\n",
        "print(\"Multiply_case2:\")\n",
        "print(np.multiply(a, b))\n",
        "\n",
        "print(\"Divide_case2:\")\n",
        "print(np.divide(a, b))"
      ],
      "metadata": {
        "colab": {
          "base_uri": "https://localhost:8080/"
        },
        "id": "JGWZZMNVqstr",
        "outputId": "4f859abe-5e65-4c91-fc86-c3b7075a95f4"
      },
      "execution_count": null,
      "outputs": [
        {
          "output_type": "stream",
          "name": "stdout",
          "text": [
            "Add_case2:\n",
            "[[ 70 100  40  70]\n",
            " [ 70  70 110 110]\n",
            " [170 130  40  30]\n",
            " [120  60 110  90]]\n",
            "Subtract_case2:\n",
            "[[-50  60  20  10]\n",
            " [ 30  50  30  50]\n",
            " [ 10 -10  20 -10]\n",
            " [  0 -40 -50  70]]\n",
            "Multiply_case2:\n",
            "[[ 600 1600  300 1200]\n",
            " [1000  600 2800 2400]\n",
            " [7200 4200  300  200]\n",
            " [3600  500 2400  800]]\n",
            "Divide_case2:\n",
            "[[0.16666667 4.         3.         1.33333333]\n",
            " [2.5        6.         1.75       2.66666667]\n",
            " [1.125      0.85714286 3.         0.5       ]\n",
            " [1.         0.2        0.375      8.        ]]\n"
          ]
        }
      ]
    },
    {
      "cell_type": "markdown",
      "source": [
        "Extra Question 6 (2’)\n",
        "\n",
        "Use SciPy for an application of Discrete Fourier Transform (DFT), modify the extra_question6.py, and apply DFT to the array “a” and visualize both original and result signals."
      ],
      "metadata": {
        "id": "n8GTDo3ki1ym"
      }
    },
    {
      "cell_type": "code",
      "source": [
        "from matplotlib import pyplot as plt\n",
        "import numpy as np \n",
        "import scipy\n",
        "\n",
        "#Frequency in terms of Hertz\n",
        "freq  = 5 \n",
        "#Sample rate\n",
        "freq_samp = 50\n",
        "t = np.linspace(0, 2, 2 * freq_samp, endpoint = False )\n",
        "a = np.sin(freq  * 2 * np.pi * t)\n",
        "figure, axis = plt.subplots()\n",
        "axis.plot(t, a)\n",
        "axis.set_xlabel ('Time (s)')\n",
        "axis.set_ylabel ('Signal Amplitude')\n",
        "plt.show()\n",
        "\n",
        "#do DFT and visualize:\n",
        "from scipy.fft import fft\n",
        "m = fft(a)\n",
        "\n",
        "N = len(m)\n",
        "n = np.arange(N)\n",
        "T = N/freq_samp\n",
        "freq = n/T \n",
        "plt.stem(freq, abs(m), 'b', \\\n",
        "         markerfmt=\" \", basefmt=\"-b\")\n",
        "plt.xlabel('Freq (Hz)')\n",
        "plt.ylabel('DFT Amplitude |X(freq)|')\n",
        "plt.show() "
      ],
      "metadata": {
        "colab": {
          "base_uri": "https://localhost:8080/",
          "height": 596
        },
        "id": "NGwLlghri2dk",
        "outputId": "6e5bef1f-0691-4742-c258-f0c8ab70af69"
      },
      "execution_count": null,
      "outputs": [
        {
          "output_type": "display_data",
          "data": {
            "text/plain": [
              "<Figure size 432x288 with 1 Axes>"
            ],
            "image/png": "[encoded data removed]"
          },
          "metadata": {
            "needs_background": "light"
          }
        },
        {
          "output_type": "stream",
          "name": "stderr",
          "text": [
            "<ipython-input-37-cc26e9c178df>:25: UserWarning: In Matplotlib 3.3 individual lines on a stem plot will be added as a LineCollection instead of individual lines. This significantly improves the performance of a stem plot. To remove this warning and switch to the new behaviour, set the \"use_line_collection\" keyword argument to True.\n",
            "  plt.stem(freq, abs(m), 'b', \\\n"
          ]
        },
        {
          "output_type": "display_data",
          "data": {
            "text/plain": [
              "<Figure size 432x288 with 1 Axes>"
            ],
            "image/png": "[encoded data removed]"
          },
          "metadata": {
            "needs_background": "light"
          }
        }
      ]
    }
  ]
}